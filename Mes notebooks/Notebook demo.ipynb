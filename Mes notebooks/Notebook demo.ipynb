{
 "cells": [
  {
   "cell_type": "markdown",
   "id": "586eaa08",
   "metadata": {},
   "source": [
    "### Mon premier notebook sur github\n"
   ]
  },
  {
   "cell_type": "markdown",
   "id": "62ac0b45",
   "metadata": {},
   "source": [
    "mon premier paragraphe est lorem ipsum"
   ]
  },
  {
   "cell_type": "code",
   "execution_count": 1,
   "id": "5c13cc29",
   "metadata": {},
   "outputs": [
    {
     "name": "stdout",
     "output_type": "stream",
     "text": [
      "1+1\n"
     ]
    }
   ],
   "source": [
    "print(\"1+2\")"
   ]
  },
  {
   "cell_type": "markdown",
   "id": "8bd2e610",
   "metadata": {},
   "source": [
    "mon deuxième paragraphe est lorem ipsum\n",
    "\n",
    "je corrige des éléments depuis la branche issue-2"
   ]
  }
 ],
 "metadata": {
  "kernelspec": {
   "display_name": "Python 3 (ipykernel)",
   "language": "python",
   "name": "python3"
  },
  "language_info": {
   "codemirror_mode": {
    "name": "ipython",
    "version": 3
   },
   "file_extension": ".py",
   "mimetype": "text/x-python",
   "name": "python",
   "nbconvert_exporter": "python",
   "pygments_lexer": "ipython3",
   "version": "3.9.7"
  }
 },
 "nbformat": 4,
 "nbformat_minor": 5
}
